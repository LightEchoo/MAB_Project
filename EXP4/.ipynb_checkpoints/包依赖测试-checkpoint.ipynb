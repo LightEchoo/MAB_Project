{
 "cells": [
  {
   "cell_type": "code",
   "outputs": [],
   "source": [
    "import os\n",
    "os.environ['KMP_DUPLICATE_LIB_OK']='True'"
   ],
   "metadata": {
    "collapsed": false,
    "ExecuteTime": {
     "end_time": "2024-08-11T02:44:51.001100Z",
     "start_time": "2024-08-11T02:44:50.995130Z"
    }
   },
   "id": "d8baedf6a589b581",
   "execution_count": 1
  },
  {
   "cell_type": "code",
   "execution_count": 2,
   "id": "db29492d55c1587b",
   "metadata": {
    "collapsed": false,
    "ExecuteTime": {
     "end_time": "2024-08-11T02:44:51.864487Z",
     "start_time": "2024-08-11T02:44:51.783129Z"
    }
   },
   "outputs": [
    {
     "name": "stdout",
     "output_type": "stream",
     "text": [
      "Numpy版本: 1.26.0\n",
      "创建一个随机数组: [[0.36637823 0.21931643 0.85068766]\n",
      " [0.8621767  0.38767203 0.09537221]\n",
      " [0.1447914  0.31754898 0.20016636]]\n"
     ]
    }
   ],
   "source": [
    "import numpy as np\n",
    "\n",
    "# 检查 numpy\n",
    "print(\"Numpy版本:\", np.__version__)\n",
    "print(\"创建一个随机数组:\", np.random.rand(3, 3))\n"
   ]
  },
  {
   "cell_type": "code",
   "execution_count": 3,
   "id": "da6abdf0c210d239",
   "metadata": {
    "collapsed": false,
    "ExecuteTime": {
     "end_time": "2024-08-11T02:44:53.274774Z",
     "start_time": "2024-08-11T02:44:52.892138Z"
    }
   },
   "outputs": [
    {
     "name": "stdout",
     "output_type": "stream",
     "text": [
      "Pandas版本: 2.2.2\n",
      "创建一个简单的DataFrame:\n",
      "   A  B\n",
      "0  1  4\n",
      "1  2  5\n",
      "2  3  6\n"
     ]
    }
   ],
   "source": [
    "import pandas as pd\n",
    "\n",
    "# 检查 pandas\n",
    "print(\"Pandas版本:\", pd.__version__)\n",
    "print(\"创建一个简单的DataFrame:\")\n",
    "df = pd.DataFrame({'A': [1, 2, 3], 'B': [4, 5, 6]})\n",
    "print(df)\n"
   ]
  },
  {
   "cell_type": "code",
   "execution_count": 4,
   "id": "ff272255626c03b5",
   "metadata": {
    "collapsed": false,
    "ExecuteTime": {
     "end_time": "2024-08-11T02:44:53.792946Z",
     "start_time": "2024-08-11T02:44:53.677990Z"
    }
   },
   "outputs": [
    {
     "name": "stdout",
     "output_type": "stream",
     "text": [
      "Matplotlib版本: 3.9.1.post1\n"
     ]
    }
   ],
   "source": [
    "import matplotlib\n",
    "print(\"Matplotlib版本:\", matplotlib.__version__)"
   ]
  },
  {
   "cell_type": "code",
   "execution_count": 5,
   "id": "dc97367c999ffce1",
   "metadata": {
    "collapsed": false,
    "ExecuteTime": {
     "end_time": "2024-08-11T02:44:54.044919Z",
     "start_time": "2024-08-11T02:44:54.042129Z"
    }
   },
   "outputs": [],
   "source": [
    "# matplotlib.use('Agg')"
   ]
  },
  {
   "cell_type": "code",
   "execution_count": 6,
   "id": "8d6ff5183deeba96",
   "metadata": {
    "collapsed": false,
    "ExecuteTime": {
     "end_time": "2024-08-11T02:44:54.554277Z",
     "start_time": "2024-08-11T02:44:54.261379Z"
    }
   },
   "outputs": [
    {
     "data": {
      "text/plain": "<Figure size 640x480 with 1 Axes>",
      "image/png": "[encoded data removed]"
     },
     "metadata": {},
     "output_type": "display_data"
    }
   ],
   "source": [
    "# %matplotlib inline\n",
    "import matplotlib.pyplot as plt\n",
    "\n",
    "# 检查 matplotlib\n",
    "plt.plot([1, 2, 3], [4, 5, 6])\n",
    "plt.title(\"Simple Plot\")\n",
    "# plt.ion()\n",
    "plt.show()"
   ]
  },
  {
   "cell_type": "code",
   "execution_count": 7,
   "id": "624afdd6bcf1fb8d",
   "metadata": {
    "collapsed": false,
    "ExecuteTime": {
     "end_time": "2024-08-11T02:44:54.674164Z",
     "start_time": "2024-08-11T02:44:54.670800Z"
    }
   },
   "outputs": [
    {
     "name": "stdout",
     "output_type": "stream",
     "text": [
      "当前工作目录: E:\\Study in the UK\\Project\\codes\\EXP4\n"
     ]
    }
   ],
   "source": [
    "import os\n",
    "\n",
    "# 检查 os\n",
    "print(\"当前工作目录:\", os.getcwd())\n"
   ]
  },
  {
   "cell_type": "code",
   "execution_count": 8,
   "id": "f719f7e606d52a91",
   "metadata": {
    "collapsed": false,
    "ExecuteTime": {
     "end_time": "2024-08-11T02:44:55.625818Z",
     "start_time": "2024-08-11T02:44:55.136529Z"
    }
   },
   "outputs": [
    {
     "name": "stdout",
     "output_type": "stream",
     "text": [
      "Statsmodels已经导入\n",
      "创建并拟合一个AutoReg模型:\n",
      "                            AutoReg Model Results                             \n",
      "==============================================================================\n",
      "Dep. Variable:                      y   No. Observations:                  100\n",
      "Model:                     AutoReg(1)   Log Likelihood                -140.739\n",
      "Method:               Conditional MLE   S.D. of innovations              1.003\n",
      "Date:                Sun, 11 Aug 2024   AIC                            287.478\n",
      "Time:                        03:44:55   BIC                            295.263\n",
      "Sample:                             1   HQIC                           290.628\n",
      "                                  100                                         \n",
      "==============================================================================\n",
      "                 coef    std err          z      P>|z|      [0.025      0.975]\n",
      "------------------------------------------------------------------------------\n",
      "const         -0.0101      0.101     -0.100      0.921      -0.208       0.187\n",
      "y.L1           0.0050      0.100      0.050      0.960      -0.191       0.201\n",
      "                                    Roots                                    \n",
      "=============================================================================\n",
      "                  Real          Imaginary           Modulus         Frequency\n",
      "-----------------------------------------------------------------------------\n",
      "AR.1          198.3799           +0.0000j          198.3799            0.0000\n",
      "-----------------------------------------------------------------------------\n"
     ]
    }
   ],
   "source": [
    "from statsmodels.tsa.ar_model import AutoReg\n",
    "\n",
    "# 检查 statsmodels\n",
    "print(\"Statsmodels已经导入\")\n",
    "print(\"创建并拟合一个AutoReg模型:\")\n",
    "data = np.random.randn(100)\n",
    "model = AutoReg(data, lags=1)\n",
    "model_fit = model.fit()\n",
    "print(model_fit.summary())\n"
   ]
  },
  {
   "cell_type": "code",
   "execution_count": 9,
   "id": "a857d2f2f954cf02",
   "metadata": {
    "collapsed": false,
    "ExecuteTime": {
     "end_time": "2024-08-11T02:44:55.631541Z",
     "start_time": "2024-08-11T02:44:55.625818Z"
    }
   },
   "outputs": [
    {
     "name": "stdout",
     "output_type": "stream",
     "text": [
      "Scipy版本: scipy.signal._savitzky_golay\n",
      "应用Savitzky-Golay滤波: [-1.46756005 -0.53224588  0.30449897  1.29189821  0.23079378]\n",
      "计算正态分布的概率密度:\n",
      "0.3989422804014327\n"
     ]
    }
   ],
   "source": [
    "from scipy.signal import savgol_filter\n",
    "from scipy.stats import norm\n",
    "\n",
    "# 检查 scipy\n",
    "print(\"Scipy版本:\", savgol_filter.__module__)\n",
    "smoothed = savgol_filter(data, 5, 2)\n",
    "print(\"应用Savitzky-Golay滤波:\", smoothed[:5])\n",
    "print(\"计算正态分布的概率密度:\")\n",
    "pdf = norm.pdf(0)\n",
    "print(pdf)\n"
   ]
  },
  {
   "cell_type": "code",
   "execution_count": 10,
   "id": "2dbfb8b450f7b552",
   "metadata": {
    "collapsed": false,
    "ExecuteTime": {
     "end_time": "2024-08-11T02:44:58.246760Z",
     "start_time": "2024-08-11T02:44:56.088614Z"
    }
   },
   "outputs": [
    {
     "name": "stdout",
     "output_type": "stream",
     "text": [
      "PyTorch版本: 2.4.0+cu124\n",
      "创建一个张量: tensor([1., 2., 3.], requires_grad=True)\n"
     ]
    }
   ],
   "source": [
    "import torch\n",
    "import torch.nn as nn\n",
    "import torch.optim as optim\n",
    "\n",
    "# 检查 PyTorch\n",
    "print(\"PyTorch版本:\", torch.__version__)\n",
    "tensor = torch.tensor([1.0, 2.0, 3.0], requires_grad=True)\n",
    "print(\"创建一个张量:\", tensor)\n"
   ]
  },
  {
   "cell_type": "code",
   "execution_count": 11,
   "id": "df1fec6a990777d9",
   "metadata": {
    "collapsed": false,
    "ExecuteTime": {
     "end_time": "2024-08-11T02:45:00.563062Z",
     "start_time": "2024-08-11T02:45:00.558594Z"
    }
   },
   "outputs": [
    {
     "name": "stdout",
     "output_type": "stream",
     "text": [
      "应用ReLU激活函数:\n",
      "tensor([1., 2., 3.], grad_fn=<ReluBackward0>)\n"
     ]
    }
   ],
   "source": [
    "import torch.nn.functional as F\n",
    "\n",
    "# 检查 F\n",
    "print(\"应用ReLU激活函数:\")\n",
    "relu_tensor = F.relu(tensor)\n",
    "print(relu_tensor)\n"
   ]
  },
  {
   "cell_type": "code",
   "execution_count": 12,
   "id": "4c17df223316bff0",
   "metadata": {
    "collapsed": false,
    "ExecuteTime": {
     "end_time": "2024-08-11T02:45:01.868690Z",
     "start_time": "2024-08-11T02:45:01.863646Z"
    }
   },
   "outputs": [
    {
     "name": "stdout",
     "output_type": "stream",
     "text": [
      "创建一个DataLoader:\n",
      "[tensor([[ 1.1758,  0.5752,  2.5576],\n",
      "        [ 1.1361,  0.6108,  0.7511],\n",
      "        [-0.0222, -0.6404,  0.0689],\n",
      "        [-0.0559, -1.1440,  0.5217],\n",
      "        [ 1.1759, -0.1398, -0.2379],\n",
      "        [ 0.6975, -0.7283,  0.3494],\n",
      "        [ 0.8206, -1.7453, -0.0491],\n",
      "        [-0.3392,  0.1575,  0.3998],\n",
      "        [-1.1062, -0.9037, -0.7895],\n",
      "        [-1.1380,  0.3449,  1.3267]]), tensor([[-0.0566],\n",
      "        [ 1.3253],\n",
      "        [-0.4851],\n",
      "        [-0.0440],\n",
      "        [ 0.4807],\n",
      "        [-1.0080],\n",
      "        [ 1.0763],\n",
      "        [ 0.1610],\n",
      "        [ 0.6661],\n",
      "        [ 0.4484]])]\n"
     ]
    }
   ],
   "source": [
    "from torch.utils.data import DataLoader, TensorDataset\n",
    "\n",
    "# 检查 DataLoader\n",
    "print(\"创建一个DataLoader:\")\n",
    "dataset = TensorDataset(torch.randn(100, 3), torch.randn(100, 1))\n",
    "loader = DataLoader(dataset, batch_size=10)\n",
    "print(next(iter(loader)))\n"
   ]
  },
  {
   "cell_type": "code",
   "execution_count": 13,
   "id": "a5ca9be61bd562d9",
   "metadata": {
    "collapsed": false,
    "ExecuteTime": {
     "end_time": "2024-08-11T02:45:02.539852Z",
     "start_time": "2024-08-11T02:45:02.530490Z"
    }
   },
   "outputs": [
    {
     "name": "stdout",
     "output_type": "stream",
     "text": [
      "使用tqdm显示进度条:\n"
     ]
    },
    {
     "name": "stderr",
     "output_type": "stream",
     "text": [
      "100%|██████████| 100/100 [00:00<?, ?it/s]\n"
     ]
    }
   ],
   "source": [
    "from tqdm import tqdm\n",
    "\n",
    "# 检查 tqdm\n",
    "print(\"使用tqdm显示进度条:\")\n",
    "for i in tqdm(range(100)):\n",
    "    pass\n"
   ]
  },
  {
   "cell_type": "code",
   "execution_count": 14,
   "id": "e63aef5ad455391",
   "metadata": {
    "collapsed": false,
    "ExecuteTime": {
     "end_time": "2024-08-11T02:45:02.948210Z",
     "start_time": "2024-08-11T02:45:02.907588Z"
    }
   },
   "outputs": [
    {
     "name": "stdout",
     "output_type": "stream",
     "text": [
      "PyTorch版本: 2.4.0+cu124\n",
      "CUDA是否可用: True\n",
      "CUDA版本: 12.4\n"
     ]
    }
   ],
   "source": [
    "import torch\n",
    "print(f\"PyTorch版本: {torch.__version__}\")\n",
    "print(f\"CUDA是否可用: {torch.cuda.is_available()}\")\n",
    "print(f\"CUDA版本: {torch.version.cuda}\")"
   ]
  },
  {
   "cell_type": "code",
   "execution_count": 15,
   "id": "8c8c16db8e9bf5bd",
   "metadata": {
    "collapsed": false,
    "ExecuteTime": {
     "end_time": "2024-08-11T02:45:03.403439Z",
     "start_time": "2024-08-11T02:45:03.393962Z"
    }
   },
   "outputs": [
    {
     "name": "stdout",
     "output_type": "stream",
     "text": [
      "检测到的GPU数量: 1\n",
      "GPU 0 名称: NVIDIA GeForce RTX 4060 Laptop GPU\n"
     ]
    }
   ],
   "source": [
    "if torch.cuda.is_available():\n",
    "    print(f\"检测到的GPU数量: {torch.cuda.device_count()}\")\n",
    "    for i in range(torch.cuda.device_count()):\n",
    "        print(f\"GPU {i} 名称: {torch.cuda.get_device_name(i)}\")\n",
    "else:\n",
    "    print(\"未检测到GPU或CUDA不可用\")\n"
   ]
  },
  {
   "cell_type": "code",
   "execution_count": 16,
   "id": "db029983e3e0ab31",
   "metadata": {
    "collapsed": false,
    "ExecuteTime": {
     "end_time": "2024-08-11T02:45:04.078999Z",
     "start_time": "2024-08-11T02:45:03.864689Z"
    }
   },
   "outputs": [
    {
     "name": "stdout",
     "output_type": "stream",
     "text": [
      "张量x: tensor([[0.6584, 0.1965, 0.3364],\n",
      "        [0.6776, 0.8013, 0.7960],\n",
      "        [0.2157, 0.7539, 0.6192]], device='cuda:0')\n",
      "张量y: tensor([[0.6376, 0.8834, 0.1013],\n",
      "        [0.8931, 0.5703, 0.0369],\n",
      "        [0.4047, 0.9263, 0.8030]], device='cuda:0')\n",
      "张量z (x + y): tensor([[1.2959, 1.0798, 0.4376],\n",
      "        [1.5707, 1.3716, 0.8329],\n",
      "        [0.6203, 1.6802, 1.4222]], device='cuda:0')\n",
      "z所在设备: cuda:0\n",
      "输入数据: tensor([[0.4806, 0.4902, 0.5046, 0.5366, 0.8206, 0.1024, 0.3658, 0.3208, 0.4111,\n",
      "         0.3272]], device='cuda:0')\n",
      "网络输出: tensor([[-0.1884, -0.1126]], device='cuda:0', grad_fn=<AddmmBackward0>)\n",
      "CUDA版本: 12.4\n",
      "CUDNN版本: 90100\n"
     ]
    }
   ],
   "source": [
    "# 创建一个在GPU上的张量\n",
    "device = torch.device(\"cuda\" if torch.cuda.is_available() else \"cpu\")\n",
    "x = torch.rand(3, 3).to(device)\n",
    "y = torch.rand(3, 3).to(device)\n",
    "\n",
    "# 执行张量加法\n",
    "z = x + y\n",
    "\n",
    "# 输出结果\n",
    "print(\"张量x:\", x)\n",
    "print(\"张量y:\", y)\n",
    "print(\"张量z (x + y):\", z)\n",
    "\n",
    "# 检查张量是否在GPU上\n",
    "print(f\"z所在设备: {z.device}\")\n",
    "\n",
    "import torch.nn as nn\n",
    "\n",
    "# 定义一个简单的神经网络\n",
    "class SimpleNet(nn.Module):\n",
    "    def __init__(self):\n",
    "        super(SimpleNet, self).__init__()\n",
    "        self.fc1 = nn.Linear(10, 5)\n",
    "        self.fc2 = nn.Linear(5, 2)\n",
    "\n",
    "    def forward(self, x):\n",
    "        x = torch.relu(self.fc1(x))\n",
    "        x = self.fc2(x)\n",
    "        return x\n",
    "\n",
    "# 实例化网络并转移到GPU\n",
    "net = SimpleNet().to(device)\n",
    "\n",
    "# 创建一个随机输入张量并转移到GPU\n",
    "input_data = torch.rand(1, 10).to(device)\n",
    "\n",
    "# 前向传播\n",
    "output = net(input_data)\n",
    "\n",
    "# 输出结果\n",
    "print(\"输入数据:\", input_data)\n",
    "print(\"网络输出:\", output)\n",
    "\n",
    "print(f\"CUDA版本: {torch.version.cuda}\")\n",
    "print(f\"CUDNN版本: {torch.backends.cudnn.version()}\")"
   ]
  },
  {
   "cell_type": "code",
   "execution_count": 17,
   "id": "6fe1ce183447ab4f",
   "metadata": {
    "collapsed": false,
    "ExecuteTime": {
     "end_time": "2024-08-11T02:45:04.729285Z",
     "start_time": "2024-08-11T02:45:04.561740Z"
    }
   },
   "outputs": [
    {
     "data": {
      "text/plain": "<Figure size 1000x600 with 1 Axes>",
      "image/png": "[encoded data removed]"
     },
     "metadata": {},
     "output_type": "display_data"
    },
    {
     "data": {
      "text/plain": "<Figure size 1000x600 with 1 Axes>",
      "image/png": "[encoded data removed]"
     },
     "metadata": {},
     "output_type": "display_data"
    }
   ],
   "source": [
    "\n",
    "# 将张量x, y, z的数据转换为numpy数组，以便绘图\n",
    "x_np = x.cpu().numpy()\n",
    "y_np = y.cpu().numpy()\n",
    "z_np = z.cpu().numpy()\n",
    "\n",
    "# 绘制张量加法的比较图\n",
    "fig, ax = plt.subplots(1, 1, figsize=(10, 6))\n",
    "index = np.arange(1, 10)\n",
    "\n",
    "ax.bar(index - 0.2, x_np.flatten(), width=0.2, label='x')\n",
    "ax.bar(index, y_np.flatten(), width=0.2, label='y')\n",
    "ax.bar(index + 0.2, z_np.flatten(), width=0.2, label='z (x + y)')\n",
    "\n",
    "ax.set_xlabel('Element Index')\n",
    "ax.set_ylabel('Value')\n",
    "ax.set_title('Comparison of Tensor Values: x, y, and z (x + y)')\n",
    "ax.legend()\n",
    "\n",
    "plt.xticks(index)\n",
    "plt.show()\n",
    "\n",
    "# 将神经网络的输出数据转换为numpy数组\n",
    "input_np = input_data.cpu().numpy().flatten()\n",
    "output_np = output.detach().cpu().numpy().flatten()\n",
    "\n",
    "# 绘制神经网络输入和输出数据的比较图\n",
    "fig, ax = plt.subplots(1, 1, figsize=(10, 6))\n",
    "index = np.arange(1, len(input_np) + 1)\n",
    "\n",
    "ax.bar(index - 0.1, input_np, width=0.2, label='Input Data')\n",
    "ax.bar(np.arange(1, len(output_np) + 1) + 0.1, output_np, width=0.2, label='Network Output')\n",
    "\n",
    "ax.set_xlabel('Neuron Index')\n",
    "ax.set_ylabel('Value')\n",
    "ax.set_title('Comparison of Neural Network Input and Output')\n",
    "ax.legend()\n",
    "\n",
    "plt.xticks(np.arange(1, max(len(input_np), len(output_np)) + 1))\n",
    "plt.show()"
   ]
  },
  {
   "cell_type": "code",
   "execution_count": 18,
   "id": "f6717bab374efc8c",
   "metadata": {
    "collapsed": false,
    "ExecuteTime": {
     "end_time": "2024-08-11T02:45:05.374400Z",
     "start_time": "2024-08-11T02:45:05.175769Z"
    }
   },
   "outputs": [
    {
     "name": "stdout",
     "output_type": "stream",
     "text": [
      "NetworkX版本: 3.2.1\n",
      "创建一个简单的图并添加节点和边:\n",
      "图节点: [1, 2]\n",
      "图边: [(1, 2)]\n"
     ]
    }
   ],
   "source": [
    "import networkx as nx\n",
    "\n",
    "# 检查 NetworkX\n",
    "print(\"NetworkX版本:\", nx.__version__)\n",
    "print(\"创建一个简单的图并添加节点和边:\")\n",
    "G = nx.Graph()\n",
    "G.add_node(1)\n",
    "G.add_edge(1, 2)\n",
    "print(\"图节点:\", G.nodes())\n",
    "print(\"图边:\", G.edges())\n"
   ]
  },
  {
   "cell_type": "code",
   "execution_count": 19,
   "id": "52483198e627bd19",
   "metadata": {
    "collapsed": false,
    "ExecuteTime": {
     "end_time": "2024-08-11T02:45:06.562353Z",
     "start_time": "2024-08-11T02:45:06.409641Z"
    }
   },
   "outputs": [
    {
     "name": "stdout",
     "output_type": "stream",
     "text": [
      "Scikit-learn版本: sklearn.metrics._regression\n",
      "均方误差 (MSE): 0.375\n"
     ]
    }
   ],
   "source": [
    "from sklearn.metrics import mean_squared_error\n",
    "\n",
    "# 检查 Scikit-learn\n",
    "print(\"Scikit-learn版本:\", mean_squared_error.__module__)\n",
    "y_true = [3, -0.5, 2, 7]\n",
    "y_pred = [2.5, 0.0, 2, 8]\n",
    "mse = mean_squared_error(y_true, y_pred)\n",
    "print(\"均方误差 (MSE):\", mse)\n"
   ]
  },
  {
   "cell_type": "code",
   "execution_count": 20,
   "id": "1b435dd59c845399",
   "metadata": {
    "collapsed": false,
    "ExecuteTime": {
     "end_time": "2024-08-11T02:45:08.537548Z",
     "start_time": "2024-08-11T02:45:07.215803Z"
    }
   },
   "outputs": [
    {
     "name": "stdout",
     "output_type": "stream",
     "text": [
      "PyTorch Geometric版本: 2.5.3\n"
     ]
    }
   ],
   "source": [
    "import torch_geometric\n",
    "\n",
    "# 检查 PyTorch Geometric\n",
    "print(\"PyTorch Geometric版本:\", torch_geometric.__version__)\n"
   ]
  },
  {
   "cell_type": "code",
   "execution_count": 21,
   "id": "5b0aa313bf8c0474",
   "metadata": {
    "collapsed": false,
    "ExecuteTime": {
     "end_time": "2024-08-11T02:45:09.948063Z",
     "start_time": "2024-08-11T02:45:09.907890Z"
    }
   },
   "outputs": [
    {
     "name": "stdout",
     "output_type": "stream",
     "text": [
      "创建一个简单的图数据:\n",
      "节点特征矩阵: tensor([[1.],\n",
      "        [2.],\n",
      "        [3.]])\n",
      "边索引矩阵: tensor([[0, 1, 1, 2],\n",
      "        [1, 0, 2, 1]])\n",
      "定义的GCNConv层: GCNConv(1, 2)\n",
      "图卷积层的输出: tensor([[ 0.0681, -0.2191],\n",
      "        [ 0.1190, -0.3827],\n",
      "        [ 0.1199, -0.3855]], grad_fn=<AddBackward0>)\n"
     ]
    }
   ],
   "source": [
    "from torch_geometric.data import Data\n",
    "from torch_geometric.nn import GCNConv\n",
    "\n",
    "# 检查 PyTorch Geometric的 Data 和 GCNConv\n",
    "print(\"创建一个简单的图数据:\")\n",
    "edge_index = torch.tensor([[0, 1, 1, 2],\n",
    "                           [1, 0, 2, 1]], dtype=torch.long)\n",
    "x = torch.tensor([[1], [2], [3]], dtype=torch.float)\n",
    "\n",
    "data = Data(x=x, edge_index=edge_index)\n",
    "print(\"节点特征矩阵:\", data.x)\n",
    "print(\"边索引矩阵:\", data.edge_index)\n",
    "\n",
    "# 使用 GCNConv 定义一个简单的图卷积层\n",
    "conv = GCNConv(1, 2)\n",
    "print(\"定义的GCNConv层:\", conv)\n",
    "out = conv(data.x, data.edge_index)\n",
    "print(\"图卷积层的输出:\", out)\n"
   ]
  },
  {
   "cell_type": "code",
   "outputs": [],
   "source": [],
   "metadata": {
    "collapsed": false
   },
   "id": "f36d7ef650d2a38c"
  }
 ],
 "metadata": {
  "kernelspec": {
   "display_name": "Python 3",
   "language": "python",
   "name": "python3"
  },
  "language_info": {
   "codemirror_mode": {
    "name": "ipython",
    "version": 3
   },
   "file_extension": ".py",
   "mimetype": "text/x-python",
   "name": "python",
   "nbconvert_exporter": "python",
   "pygments_lexer": "ipython3",
   "version": "3.11.9"
  }
 },
 "nbformat": 4,
 "nbformat_minor": 5
}
