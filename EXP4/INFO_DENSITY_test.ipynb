{
 "cells": [
  {
   "cell_type": "code",
   "execution_count": null,
   "id": "initial_id",
   "metadata": {
    "collapsed": true
   },
   "outputs": [],
   "source": []
  },
  {
   "cell_type": "code",
   "outputs": [
    {
     "name": "stdout",
     "output_type": "stream",
     "text": [
      "This is a level 1 message.\n",
      "This is a level 2 message.\n",
      "This is a level 1 message.\n",
      "This is a level 2 message.\n",
      "This is a level 3 message.\n",
      "This is a level 1 message.\n",
      "This is a level 2 message.\n",
      "This is a level 3 message.\n",
      "This is a level 4 message.\n"
     ]
    }
   ],
   "source": [
    "import functools\n",
    "\n",
    "# 全局变量，控制输出信息的详细程度\n",
    "INFO_DENSITY = 2\n",
    "\n",
    "def controlled_print_decorator(func):\n",
    "    @functools.wraps(func)\n",
    "    def wrapper(*args, **kwargs):\n",
    "        # 替换内置的print函数\n",
    "        original_print = print\n",
    "        \n",
    "        def custom_print(level, *print_args, **print_kwargs):\n",
    "            if level <= INFO_DENSITY:\n",
    "                original_print(*print_args, **print_kwargs)\n",
    "        \n",
    "        # 将全局 print 替换为 custom_print\n",
    "        globals()['print'] = custom_print\n",
    "        \n",
    "        try:\n",
    "            result = func(*args, **kwargs)\n",
    "        finally:\n",
    "            # 恢复原始的print函数\n",
    "            globals()['print'] = original_print\n",
    "        \n",
    "        return result\n",
    "    \n",
    "    return wrapper\n",
    "\n",
    "# 示例使用装饰器\n",
    "@controlled_print_decorator\n",
    "def example_function():\n",
    "    print(1, \"This is a level 1 message.\")\n",
    "    print(2, \"This is a level 2 message.\")\n",
    "    print(3, \"This is a level 3 message.\")\n",
    "    print(4, \"This is a level 4 message.\")\n",
    "\n",
    "# 修改 INFO_DENSITY 测试不同的输出\n",
    "INFO_DENSITY = 2\n",
    "example_function()\n",
    "\n",
    "INFO_DENSITY = 3\n",
    "example_function()\n",
    "\n",
    "INFO_DENSITY = 4\n",
    "example_function()"
   ],
   "metadata": {
    "collapsed": false,
    "ExecuteTime": {
     "end_time": "2024-08-09T22:54:52.677732Z",
     "start_time": "2024-08-09T22:54:52.667872Z"
    }
   },
   "id": "dcfabbf5a70ba07a",
   "execution_count": 1
  },
  {
   "cell_type": "markdown",
   "source": [
    "管理信息输出的详细程度是软件开发中的一个常见需求，尤其是在调试和生产环境中。除了刚刚介绍的基于装饰器的方法，还有其他几种常用的方案可以帮助你更好地管理输出信息的详细程度。这些方案包括使用 Python 的日志库（logging）、基于环境变量的控制、以及自定义的输出管理类。下面是这些方案的详细介绍：\n",
    "\n",
    "1. 使用 Python 的 logging 库\n",
    "logging 是 Python 标准库中非常强大的模块，能够细粒度地控制日志的输出，包括不同的日志级别（如 DEBUG、INFO、WARNING、ERROR、CRITICAL）。这是一个比较推荐的做法，因为它提供了灵活性和可扩展性。"
   ],
   "metadata": {
    "collapsed": false
   },
   "id": "7b53ce1428b64584"
  },
  {
   "cell_type": "code",
   "outputs": [
    {
     "name": "stderr",
     "output_type": "stream",
     "text": [
      "2024-08-10 00:16:10,657 - INFO - This is an info message.\n",
      "2024-08-10 00:16:10,658 - WARNING - This is a warning message.\n",
      "2024-08-10 00:16:10,658 - ERROR - This is an error message.\n",
      "2024-08-10 00:16:10,658 - CRITICAL - This is a critical message.\n"
     ]
    }
   ],
   "source": [
    "import logging\n",
    "\n",
    "# 配置 logging\n",
    "logging.basicConfig(level=logging.INFO, format='%(asctime)s - %(levelname)s - %(message)s')\n",
    "logger = logging.getLogger(__name__)\n",
    "\n",
    "# 设置全局的详细程度控制\n",
    "INFO_DENSITY = 2  # 0 - NOTSET, 1 - DEBUG, 2 - INFO, 3 - WARNING, 4 - ERROR, 5 - CRITICAL\n",
    "\n",
    "def set_logging_level(density):\n",
    "    if density == 0:\n",
    "        logger.setLevel(logging.NOTSET)\n",
    "    elif density == 1:\n",
    "        logger.setLevel(logging.DEBUG)\n",
    "    elif density == 2:\n",
    "        logger.setLevel(logging.INFO)\n",
    "    elif density == 3:\n",
    "        logger.setLevel(logging.WARNING)\n",
    "    elif density == 4:\n",
    "        logger.setLevel(logging.ERROR)\n",
    "    elif density == 5:\n",
    "        logger.setLevel(logging.CRITICAL)\n",
    "    else:\n",
    "        logger.setLevel(logging.INFO)\n",
    "\n",
    "set_logging_level(INFO_DENSITY)\n",
    "\n",
    "def example_function():\n",
    "    logger.debug(\"This is a debug message.\")\n",
    "    logger.info(\"This is an info message.\")\n",
    "    logger.warning(\"This is a warning message.\")\n",
    "    logger.error(\"This is an error message.\")\n",
    "    logger.critical(\"This is a critical message.\")\n",
    "\n",
    "example_function()\n"
   ],
   "metadata": {
    "collapsed": false,
    "ExecuteTime": {
     "end_time": "2024-08-09T23:16:10.661364Z",
     "start_time": "2024-08-09T23:16:10.653621Z"
    }
   },
   "id": "e2964979783c81db",
   "execution_count": 2
  },
  {
   "cell_type": "markdown",
   "source": [
    "优点\n",
    "灵活性：logging 提供了多种日志级别和格式化选项，适合不同的需求。\n",
    "可扩展性：支持将日志输出到控制台、文件、甚至远程日志服务器。\n",
    "集成性：可以与现有的许多 Python 库和框架无缝集成。\n",
    "适用场景\n",
    "需要在项目中管理复杂的日志输出，且要求支持不同的输出目标（如控制台、文件）。\n",
    "需要不同模块或类中统一管理输出信息。\n",
    "2. 基于环境变量的控制\n",
    "你可以使用环境变量来动态控制输出信息的详细程度。这样可以在不同的运行环境中方便地调整输出的级别，而无需修改代码。"
   ],
   "metadata": {
    "collapsed": false
   },
   "id": "5d0790d7b8c2d2ff"
  },
  {
   "cell_type": "code",
   "outputs": [
    {
     "name": "stdout",
     "output_type": "stream",
     "text": [
      "This is a level 1 message.\n",
      "This is a level 2 message.\n"
     ]
    }
   ],
   "source": [
    "import os\n",
    "\n",
    "INFO_DENSITY = int(os.getenv(\"INFO_DENSITY\", 2))  # 从环境变量获取详细程度，默认为2\n",
    "\n",
    "def controlled_print(level, message):\n",
    "    if level <= INFO_DENSITY:\n",
    "        print(message)\n",
    "\n",
    "def example_function():\n",
    "    controlled_print(1, \"This is a level 1 message.\")\n",
    "    controlled_print(2, \"This is a level 2 message.\")\n",
    "    controlled_print(3, \"This is a level 3 message.\")\n",
    "    controlled_print(4, \"This is a level 4 message.\")\n",
    "\n",
    "example_function()\n"
   ],
   "metadata": {
    "collapsed": false,
    "ExecuteTime": {
     "end_time": "2024-08-09T23:16:12.656186Z",
     "start_time": "2024-08-09T23:16:12.651673Z"
    }
   },
   "id": "2833a66cc3244642",
   "execution_count": 3
  },
  {
   "cell_type": "markdown",
   "source": [
    "优点\n",
    "动态调整：可以在运行时通过设置环境变量来控制信息的输出详细程度。\n",
    "无侵入性：无需更改代码逻辑，只需通过环境变量控制输出。\n",
    "适用场景\n",
    "需要在开发、测试、生产等不同环境中动态调整输出的详细程度。\n",
    "项目对环境变量有良好的支持。\n",
    "3. 自定义输出管理类\n",
    "你可以创建一个自定义的输出管理类，用于集中管理所有的输出逻辑。这个类可以使用单例模式（Singleton），确保在整个应用中只有一个实例。"
   ],
   "metadata": {
    "collapsed": false
   },
   "id": "22f42689909a96f7"
  },
  {
   "cell_type": "code",
   "outputs": [
    {
     "name": "stdout",
     "output_type": "stream",
     "text": [
      "This is a level 1 message.\n",
      "This is a level 2 message.\n",
      "This is a level 1 message.\n",
      "This is a level 2 message.\n",
      "This is a level 3 message.\n"
     ]
    }
   ],
   "source": [
    "class OutputManager:\n",
    "    _instance = None\n",
    "\n",
    "    def __new__(cls, info_density=2):\n",
    "        if cls._instance is None:\n",
    "            cls._instance = super(OutputManager, cls).__new__(cls)\n",
    "            cls._instance.info_density = info_density\n",
    "        return cls._instance\n",
    "\n",
    "    def set_info_density(self, density):\n",
    "        self.info_density = density\n",
    "\n",
    "    def print(self, level, message):\n",
    "        if level <= self.info_density:\n",
    "            print(message)\n",
    "\n",
    "# 使用示例\n",
    "output_manager = OutputManager(info_density=2)\n",
    "\n",
    "def example_function():\n",
    "    output_manager.print(1, \"This is a level 1 message.\")\n",
    "    output_manager.print(2, \"This is a level 2 message.\")\n",
    "    output_manager.print(3, \"This is a level 3 message.\")\n",
    "    output_manager.print(4, \"This is a level 4 message.\")\n",
    "\n",
    "example_function()\n",
    "\n",
    "# 动态修改详细程度\n",
    "output_manager.set_info_density(3)\n",
    "example_function()\n"
   ],
   "metadata": {
    "collapsed": false,
    "ExecuteTime": {
     "end_time": "2024-08-09T23:16:15.251268Z",
     "start_time": "2024-08-09T23:16:15.246443Z"
    }
   },
   "id": "564828372c765f71",
   "execution_count": 4
  },
  {
   "cell_type": "markdown",
   "source": [
    "优点\n",
    "集中管理：所有的输出控制都集中在一个类中，易于维护。\n",
    "动态调整：可以在运行过程中动态调整输出的详细程度。\n",
    "适用场景\n",
    "需要在项目中集中管理输出逻辑。\n",
    "需要根据运行时条件动态调整输出行为。\n",
    "总结\n",
    "logging 库：是最灵活和功能最强大的解决方案，适合管理复杂的日志需求。\n",
    "环境变量：提供了一种简单、动态的方法来控制输出的详细程度，适合需要在不同环境中运行的项目。\n",
    "自定义输出管理类：适合在项目中集中管理输出逻辑，易于扩展和维护。\n",
    "如果你需要一个强大且灵活的解决方案，推荐使用 Python 的 logging 库。如果你想要一个轻量级且可以动态调整的方式，基于环境变量的控制或自定义输出管理类都是不错的选择。"
   ],
   "metadata": {
    "collapsed": false
   },
   "id": "688f06b631a4840d"
  },
  {
   "cell_type": "code",
   "outputs": [],
   "source": [],
   "metadata": {
    "collapsed": false
   },
   "id": "30a09291634929e3"
  }
 ],
 "metadata": {
  "kernelspec": {
   "display_name": "Python 3",
   "language": "python",
   "name": "python3"
  },
  "language_info": {
   "codemirror_mode": {
    "name": "ipython",
    "version": 2
   },
   "file_extension": ".py",
   "mimetype": "text/x-python",
   "name": "python",
   "nbconvert_exporter": "python",
   "pygments_lexer": "ipython2",
   "version": "2.7.6"
  }
 },
 "nbformat": 4,
 "nbformat_minor": 5
}
