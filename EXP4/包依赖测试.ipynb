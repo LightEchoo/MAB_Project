{
 "cells": [
  {
   "cell_type": "code",
   "execution_count": 1,
   "id": "d8baedf6a589b581",
   "metadata": {
    "collapsed": false,
    "ExecuteTime": {
     "end_time": "2024-08-11T11:48:35.774893Z",
     "start_time": "2024-08-11T11:48:35.769283Z"
    }
   },
   "outputs": [],
   "source": [
    "import os\n",
    "os.environ['KMP_DUPLICATE_LIB_OK']='True'"
   ]
  },
  {
   "cell_type": "code",
   "execution_count": 2,
   "id": "db29492d55c1587b",
   "metadata": {
    "collapsed": false,
    "ExecuteTime": {
     "end_time": "2024-08-11T11:48:35.866767Z",
     "start_time": "2024-08-11T11:48:35.775897Z"
    }
   },
   "outputs": [
    {
     "name": "stdout",
     "output_type": "stream",
     "text": [
      "Numpy版本: 1.26.0\n",
      "创建一个随机数组: [[0.20963431 0.99335834 0.65419364]\n",
      " [0.86511206 0.85203424 0.52547621]\n",
      " [0.72170448 0.49759891 0.86924688]]\n"
     ]
    }
   ],
   "source": [
    "import numpy as np\n",
    "\n",
    "# 检查 numpy\n",
    "print(\"Numpy版本:\", np.__version__)\n",
    "print(\"创建一个随机数组:\", np.random.rand(3, 3))\n"
   ]
  },
  {
   "cell_type": "code",
   "execution_count": 3,
   "id": "da6abdf0c210d239",
   "metadata": {
    "collapsed": false,
    "ExecuteTime": {
     "end_time": "2024-08-11T11:48:36.459836Z",
     "start_time": "2024-08-11T11:48:35.866767Z"
    }
   },
   "outputs": [
    {
     "name": "stdout",
     "output_type": "stream",
     "text": [
      "Pandas版本: 2.2.2\n",
      "创建一个简单的DataFrame:\n",
      "   A  B\n",
      "0  1  4\n",
      "1  2  5\n",
      "2  3  6\n"
     ]
    }
   ],
   "source": [
    "import pandas as pd\n",
    "\n",
    "# 检查 pandas\n",
    "print(\"Pandas版本:\", pd.__version__)\n",
    "print(\"创建一个简单的DataFrame:\")\n",
    "df = pd.DataFrame({'A': [1, 2, 3], 'B': [4, 5, 6]})\n",
    "print(df)\n"
   ]
  },
  {
   "cell_type": "code",
   "execution_count": 4,
   "id": "ff272255626c03b5",
   "metadata": {
    "collapsed": false,
    "ExecuteTime": {
     "end_time": "2024-08-11T11:48:36.628106Z",
     "start_time": "2024-08-11T11:48:36.460845Z"
    }
   },
   "outputs": [
    {
     "name": "stdout",
     "output_type": "stream",
     "text": [
      "Matplotlib版本: 3.9.1.post1\n"
     ]
    }
   ],
   "source": [
    "import matplotlib\n",
    "print(\"Matplotlib版本:\", matplotlib.__version__)"
   ]
  },
  {
   "cell_type": "code",
   "execution_count": 5,
   "id": "dc97367c999ffce1",
   "metadata": {
    "collapsed": false,
    "ExecuteTime": {
     "end_time": "2024-08-11T11:48:36.632641Z",
     "start_time": "2024-08-11T11:48:36.629112Z"
    }
   },
   "outputs": [],
   "source": [
    "# matplotlib.use('Agg')"
   ]
  },
  {
   "cell_type": "code",
   "execution_count": 6,
   "id": "8d6ff5183deeba96",
   "metadata": {
    "collapsed": false,
    "ExecuteTime": {
     "end_time": "2024-08-11T11:48:37.072546Z",
     "start_time": "2024-08-11T11:48:36.634653Z"
    }
   },
   "outputs": [
    {
     "data": {
      "text/plain": "<Figure size 640x480 with 1 Axes>",
      "image/png": "[encoded data removed]"
     },
     "metadata": {},
     "output_type": "display_data"
    }
   ],
   "source": [
    "# %matplotlib inline\n",
    "import matplotlib.pyplot as plt\n",
    "\n",
    "# 检查 matplotlib\n",
    "plt.plot([1, 2, 3], [4, 5, 6])\n",
    "plt.title(\"Simple Plot\")\n",
    "# plt.ion()\n",
    "plt.show()"
   ]
  },
  {
   "cell_type": "code",
   "execution_count": 7,
   "id": "624afdd6bcf1fb8d",
   "metadata": {
    "collapsed": false,
    "ExecuteTime": {
     "end_time": "2024-08-11T11:48:37.078708Z",
     "start_time": "2024-08-11T11:48:37.073550Z"
    }
   },
   "outputs": [
    {
     "name": "stdout",
     "output_type": "stream",
     "text": [
      "当前工作目录: E:\\Study in the UK\\Project\\codes\\EXP4\n"
     ]
    }
   ],
   "source": [
    "import os\n",
    "\n",
    "# 检查 os\n",
    "print(\"当前工作目录:\", os.getcwd())\n"
   ]
  },
  {
   "cell_type": "code",
   "execution_count": 8,
   "id": "f719f7e606d52a91",
   "metadata": {
    "collapsed": false,
    "ExecuteTime": {
     "end_time": "2024-08-11T11:48:37.689979Z",
     "start_time": "2024-08-11T11:48:37.079718Z"
    }
   },
   "outputs": [
    {
     "name": "stdout",
     "output_type": "stream",
     "text": [
      "Statsmodels已经导入\n",
      "创建并拟合一个AutoReg模型:\n",
      "                            AutoReg Model Results                             \n",
      "==============================================================================\n",
      "Dep. Variable:                      y   No. Observations:                  100\n",
      "Model:                     AutoReg(1)   Log Likelihood                -137.661\n",
      "Method:               Conditional MLE   S.D. of innovations              0.972\n",
      "Date:                Sun, 11 Aug 2024   AIC                            281.322\n",
      "Time:                        12:48:37   BIC                            289.108\n",
      "Sample:                             1   HQIC                           284.472\n",
      "                                  100                                         \n",
      "==============================================================================\n",
      "                 coef    std err          z      P>|z|      [0.025      0.975]\n",
      "------------------------------------------------------------------------------\n",
      "const         -0.0240      0.098     -0.245      0.806      -0.216       0.168\n",
      "y.L1          -0.0215      0.102     -0.212      0.832      -0.221       0.178\n",
      "                                    Roots                                    \n",
      "=============================================================================\n",
      "                  Real          Imaginary           Modulus         Frequency\n",
      "-----------------------------------------------------------------------------\n",
      "AR.1          -46.4299           +0.0000j           46.4299            0.5000\n",
      "-----------------------------------------------------------------------------\n"
     ]
    }
   ],
   "source": [
    "from statsmodels.tsa.ar_model import AutoReg\n",
    "\n",
    "# 检查 statsmodels\n",
    "print(\"Statsmodels已经导入\")\n",
    "print(\"创建并拟合一个AutoReg模型:\")\n",
    "data = np.random.randn(100)\n",
    "model = AutoReg(data, lags=1)\n",
    "model_fit = model.fit()\n",
    "print(model_fit.summary())\n"
   ]
  },
  {
   "cell_type": "code",
   "execution_count": 9,
   "id": "a857d2f2f954cf02",
   "metadata": {
    "collapsed": false,
    "ExecuteTime": {
     "end_time": "2024-08-11T11:48:37.696084Z",
     "start_time": "2024-08-11T11:48:37.690983Z"
    }
   },
   "outputs": [
    {
     "name": "stdout",
     "output_type": "stream",
     "text": [
      "Scipy版本: scipy.signal._savitzky_golay\n",
      "应用Savitzky-Golay滤波: [ 1.12958238  1.37238587  1.26885867  0.79231948 -0.52500255]\n",
      "计算正态分布的概率密度:\n",
      "0.3989422804014327\n"
     ]
    }
   ],
   "source": [
    "from scipy.signal import savgol_filter\n",
    "from scipy.stats import norm\n",
    "\n",
    "# 检查 scipy\n",
    "print(\"Scipy版本:\", savgol_filter.__module__)\n",
    "smoothed = savgol_filter(data, 5, 2)\n",
    "print(\"应用Savitzky-Golay滤波:\", smoothed[:5])\n",
    "print(\"计算正态分布的概率密度:\")\n",
    "pdf = norm.pdf(0)\n",
    "print(pdf)\n"
   ]
  },
  {
   "cell_type": "code",
   "execution_count": 10,
   "id": "2dbfb8b450f7b552",
   "metadata": {
    "collapsed": false,
    "ExecuteTime": {
     "end_time": "2024-08-11T11:48:40.182211Z",
     "start_time": "2024-08-11T11:48:37.696652Z"
    }
   },
   "outputs": [
    {
     "name": "stdout",
     "output_type": "stream",
     "text": [
      "PyTorch版本: 2.4.0+cu124\n",
      "创建一个张量: tensor([1., 2., 3.], requires_grad=True)\n"
     ]
    }
   ],
   "source": [
    "import torch\n",
    "import torch.nn as nn\n",
    "import torch.optim as optim\n",
    "\n",
    "# 检查 PyTorch\n",
    "print(\"PyTorch版本:\", torch.__version__)\n",
    "tensor = torch.tensor([1.0, 2.0, 3.0], requires_grad=True)\n",
    "print(\"创建一个张量:\", tensor)\n"
   ]
  },
  {
   "cell_type": "code",
   "execution_count": 11,
   "id": "df1fec6a990777d9",
   "metadata": {
    "collapsed": false,
    "ExecuteTime": {
     "end_time": "2024-08-11T11:48:40.187489Z",
     "start_time": "2024-08-11T11:48:40.183215Z"
    }
   },
   "outputs": [
    {
     "name": "stdout",
     "output_type": "stream",
     "text": [
      "应用ReLU激活函数:\n",
      "tensor([1., 2., 3.], grad_fn=<ReluBackward0>)\n"
     ]
    }
   ],
   "source": [
    "import torch.nn.functional as F\n",
    "\n",
    "# 检查 F\n",
    "print(\"应用ReLU激活函数:\")\n",
    "relu_tensor = F.relu(tensor)\n",
    "print(relu_tensor)\n"
   ]
  },
  {
   "cell_type": "code",
   "execution_count": 12,
   "id": "4c17df223316bff0",
   "metadata": {
    "collapsed": false,
    "ExecuteTime": {
     "end_time": "2024-08-11T11:48:40.206325Z",
     "start_time": "2024-08-11T11:48:40.188508Z"
    }
   },
   "outputs": [
    {
     "name": "stdout",
     "output_type": "stream",
     "text": [
      "创建一个DataLoader:\n",
      "[tensor([[-0.4228, -1.0098,  1.2249],\n",
      "        [ 0.5687, -0.6468, -0.0573],\n",
      "        [-0.8073, -0.6468, -0.3625],\n",
      "        [-0.4796,  0.6134, -0.7701],\n",
      "        [-0.2575, -1.0446, -0.6625],\n",
      "        [-0.2813,  2.1369, -1.5313],\n",
      "        [ 0.5003,  1.9375, -0.1015],\n",
      "        [ 0.5855, -0.7906, -0.0174],\n",
      "        [-0.6558,  0.0253, -0.8882],\n",
      "        [-0.2235, -0.3054,  1.6787]]), tensor([[-0.5848],\n",
      "        [-1.9722],\n",
      "        [ 0.0896],\n",
      "        [ 0.6679],\n",
      "        [-0.7338],\n",
      "        [-0.3900],\n",
      "        [-1.5612],\n",
      "        [ 2.2703],\n",
      "        [-0.4395],\n",
      "        [-0.4275]])]\n"
     ]
    }
   ],
   "source": [
    "from torch.utils.data import DataLoader, TensorDataset\n",
    "\n",
    "# 检查 DataLoader\n",
    "print(\"创建一个DataLoader:\")\n",
    "dataset = TensorDataset(torch.randn(100, 3), torch.randn(100, 1))\n",
    "loader = DataLoader(dataset, batch_size=10)\n",
    "print(next(iter(loader)))\n"
   ]
  },
  {
   "cell_type": "code",
   "execution_count": 13,
   "id": "a5ca9be61bd562d9",
   "metadata": {
    "collapsed": false,
    "ExecuteTime": {
     "end_time": "2024-08-11T11:48:40.214691Z",
     "start_time": "2024-08-11T11:48:40.207344Z"
    }
   },
   "outputs": [
    {
     "name": "stdout",
     "output_type": "stream",
     "text": [
      "使用tqdm显示进度条:\n"
     ]
    },
    {
     "name": "stderr",
     "output_type": "stream",
     "text": [
      "100%|██████████| 100/100 [00:00<?, ?it/s]\n"
     ]
    }
   ],
   "source": [
    "from tqdm import tqdm\n",
    "\n",
    "# 检查 tqdm\n",
    "print(\"使用tqdm显示进度条:\")\n",
    "for i in tqdm(range(100)):\n",
    "    pass\n"
   ]
  },
  {
   "cell_type": "code",
   "execution_count": 14,
   "id": "e63aef5ad455391",
   "metadata": {
    "collapsed": false,
    "ExecuteTime": {
     "end_time": "2024-08-11T11:48:40.246749Z",
     "start_time": "2024-08-11T11:48:40.215697Z"
    }
   },
   "outputs": [
    {
     "name": "stdout",
     "output_type": "stream",
     "text": [
      "PyTorch版本: 2.4.0+cu124\n",
      "CUDA是否可用: True\n",
      "CUDA版本: 12.4\n"
     ]
    }
   ],
   "source": [
    "import torch\n",
    "print(f\"PyTorch版本: {torch.__version__}\")\n",
    "print(f\"CUDA是否可用: {torch.cuda.is_available()}\")\n",
    "print(f\"CUDA版本: {torch.version.cuda}\")"
   ]
  },
  {
   "cell_type": "code",
   "execution_count": 15,
   "id": "8c8c16db8e9bf5bd",
   "metadata": {
    "collapsed": false,
    "ExecuteTime": {
     "end_time": "2024-08-11T11:48:40.253681Z",
     "start_time": "2024-08-11T11:48:40.247752Z"
    }
   },
   "outputs": [
    {
     "name": "stdout",
     "output_type": "stream",
     "text": [
      "检测到的GPU数量: 1\n",
      "GPU 0 名称: NVIDIA GeForce RTX 4060 Laptop GPU\n"
     ]
    }
   ],
   "source": [
    "if torch.cuda.is_available():\n",
    "    print(f\"检测到的GPU数量: {torch.cuda.device_count()}\")\n",
    "    for i in range(torch.cuda.device_count()):\n",
    "        print(f\"GPU {i} 名称: {torch.cuda.get_device_name(i)}\")\n",
    "else:\n",
    "    print(\"未检测到GPU或CUDA不可用\")\n"
   ]
  },
  {
   "cell_type": "code",
   "execution_count": 16,
   "id": "db029983e3e0ab31",
   "metadata": {
    "collapsed": false,
    "ExecuteTime": {
     "end_time": "2024-08-11T11:48:40.764385Z",
     "start_time": "2024-08-11T11:48:40.254685Z"
    }
   },
   "outputs": [
    {
     "name": "stdout",
     "output_type": "stream",
     "text": [
      "张量x: tensor([[0.8701, 0.5577, 0.4210],\n",
      "        [0.2058, 0.6721, 0.8370],\n",
      "        [0.4771, 0.2743, 0.1721]], device='cuda:0')\n",
      "张量y: tensor([[0.4366, 0.8460, 0.4999],\n",
      "        [0.4780, 0.3427, 0.2173],\n",
      "        [0.1304, 0.1230, 0.0660]], device='cuda:0')\n",
      "张量z (x + y): tensor([[1.3067, 1.4037, 0.9208],\n",
      "        [0.6838, 1.0148, 1.0543],\n",
      "        [0.6075, 0.3974, 0.2382]], device='cuda:0')\n",
      "z所在设备: cuda:0\n",
      "输入数据: tensor([[0.1941, 0.5656, 0.4716, 0.9051, 0.7720, 0.1844, 0.0414, 0.9502, 0.6551,\n",
      "         0.4039]], device='cuda:0')\n",
      "网络输出: tensor([[-0.3985,  0.4764]], device='cuda:0', grad_fn=<AddmmBackward0>)\n",
      "CUDA版本: 12.4\n",
      "CUDNN版本: 90100\n"
     ]
    }
   ],
   "source": [
    "# 创建一个在GPU上的张量\n",
    "device = torch.device(\"cuda\" if torch.cuda.is_available() else \"cpu\")\n",
    "x = torch.rand(3, 3).to(device)\n",
    "y = torch.rand(3, 3).to(device)\n",
    "\n",
    "# 执行张量加法\n",
    "z = x + y\n",
    "\n",
    "# 输出结果\n",
    "print(\"张量x:\", x)\n",
    "print(\"张量y:\", y)\n",
    "print(\"张量z (x + y):\", z)\n",
    "\n",
    "# 检查张量是否在GPU上\n",
    "print(f\"z所在设备: {z.device}\")\n",
    "\n",
    "import torch.nn as nn\n",
    "\n",
    "# 定义一个简单的神经网络\n",
    "class SimpleNet(nn.Module):\n",
    "    def __init__(self):\n",
    "        super(SimpleNet, self).__init__()\n",
    "        self.fc1 = nn.Linear(10, 5)\n",
    "        self.fc2 = nn.Linear(5, 2)\n",
    "\n",
    "    def forward(self, x):\n",
    "        x = torch.relu(self.fc1(x))\n",
    "        x = self.fc2(x)\n",
    "        return x\n",
    "\n",
    "# 实例化网络并转移到GPU\n",
    "net = SimpleNet().to(device)\n",
    "\n",
    "# 创建一个随机输入张量并转移到GPU\n",
    "input_data = torch.rand(1, 10).to(device)\n",
    "\n",
    "# 前向传播\n",
    "output = net(input_data)\n",
    "\n",
    "# 输出结果\n",
    "print(\"输入数据:\", input_data)\n",
    "print(\"网络输出:\", output)\n",
    "\n",
    "print(f\"CUDA版本: {torch.version.cuda}\")\n",
    "print(f\"CUDNN版本: {torch.backends.cudnn.version()}\")"
   ]
  },
  {
   "cell_type": "code",
   "execution_count": 17,
   "id": "6fe1ce183447ab4f",
   "metadata": {
    "collapsed": false,
    "ExecuteTime": {
     "end_time": "2024-08-11T11:48:40.922485Z",
     "start_time": "2024-08-11T11:48:40.764385Z"
    }
   },
   "outputs": [
    {
     "data": {
      "text/plain": "<Figure size 1000x600 with 1 Axes>",
      "image/png": "[encoded data removed]"
     },
     "metadata": {},
     "output_type": "display_data"
    },
    {
     "data": {
      "text/plain": "<Figure size 1000x600 with 1 Axes>",
      "image/png": "[encoded data removed]"
     },
     "metadata": {},
     "output_type": "display_data"
    }
   ],
   "source": [
    "\n",
    "# 将张量x, y, z的数据转换为numpy数组，以便绘图\n",
    "x_np = x.cpu().numpy()\n",
    "y_np = y.cpu().numpy()\n",
    "z_np = z.cpu().numpy()\n",
    "\n",
    "# 绘制张量加法的比较图\n",
    "fig, ax = plt.subplots(1, 1, figsize=(10, 6))\n",
    "index = np.arange(1, 10)\n",
    "\n",
    "ax.bar(index - 0.2, x_np.flatten(), width=0.2, label='x')\n",
    "ax.bar(index, y_np.flatten(), width=0.2, label='y')\n",
    "ax.bar(index + 0.2, z_np.flatten(), width=0.2, label='z (x + y)')\n",
    "\n",
    "ax.set_xlabel('Element Index')\n",
    "ax.set_ylabel('Value')\n",
    "ax.set_title('Comparison of Tensor Values: x, y, and z (x + y)')\n",
    "ax.legend()\n",
    "\n",
    "plt.xticks(index)\n",
    "plt.show()\n",
    "\n",
    "# 将神经网络的输出数据转换为numpy数组\n",
    "input_np = input_data.cpu().numpy().flatten()\n",
    "output_np = output.detach().cpu().numpy().flatten()\n",
    "\n",
    "# 绘制神经网络输入和输出数据的比较图\n",
    "fig, ax = plt.subplots(1, 1, figsize=(10, 6))\n",
    "index = np.arange(1, len(input_np) + 1)\n",
    "\n",
    "ax.bar(index - 0.1, input_np, width=0.2, label='Input Data')\n",
    "ax.bar(np.arange(1, len(output_np) + 1) + 0.1, output_np, width=0.2, label='Network Output')\n",
    "\n",
    "ax.set_xlabel('Neuron Index')\n",
    "ax.set_ylabel('Value')\n",
    "ax.set_title('Comparison of Neural Network Input and Output')\n",
    "ax.legend()\n",
    "\n",
    "plt.xticks(np.arange(1, max(len(input_np), len(output_np)) + 1))\n",
    "plt.show()"
   ]
  },
  {
   "cell_type": "code",
   "execution_count": 18,
   "id": "f6717bab374efc8c",
   "metadata": {
    "collapsed": false,
    "ExecuteTime": {
     "end_time": "2024-08-11T11:48:41.126545Z",
     "start_time": "2024-08-11T11:48:40.923489Z"
    }
   },
   "outputs": [
    {
     "name": "stdout",
     "output_type": "stream",
     "text": [
      "NetworkX版本: 3.2.1\n",
      "创建一个简单的图并添加节点和边:\n",
      "图节点: [1, 2]\n",
      "图边: [(1, 2)]\n"
     ]
    }
   ],
   "source": [
    "import networkx as nx\n",
    "\n",
    "# 检查 NetworkX\n",
    "print(\"NetworkX版本:\", nx.__version__)\n",
    "print(\"创建一个简单的图并添加节点和边:\")\n",
    "G = nx.Graph()\n",
    "G.add_node(1)\n",
    "G.add_edge(1, 2)\n",
    "print(\"图节点:\", G.nodes())\n",
    "print(\"图边:\", G.edges())\n"
   ]
  },
  {
   "cell_type": "code",
   "execution_count": 19,
   "id": "52483198e627bd19",
   "metadata": {
    "collapsed": false,
    "ExecuteTime": {
     "end_time": "2024-08-11T11:48:41.288193Z",
     "start_time": "2024-08-11T11:48:41.127550Z"
    }
   },
   "outputs": [
    {
     "name": "stdout",
     "output_type": "stream",
     "text": [
      "Scikit-learn版本: sklearn.metrics._regression\n",
      "均方误差 (MSE): 0.375\n"
     ]
    }
   ],
   "source": [
    "from sklearn.metrics import mean_squared_error\n",
    "\n",
    "# 检查 Scikit-learn\n",
    "print(\"Scikit-learn版本:\", mean_squared_error.__module__)\n",
    "y_true = [3, -0.5, 2, 7]\n",
    "y_pred = [2.5, 0.0, 2, 8]\n",
    "mse = mean_squared_error(y_true, y_pred)\n",
    "print(\"均方误差 (MSE):\", mse)\n"
   ]
  },
  {
   "cell_type": "code",
   "execution_count": 20,
   "id": "1b435dd59c845399",
   "metadata": {
    "collapsed": false,
    "ExecuteTime": {
     "end_time": "2024-08-11T11:48:42.425917Z",
     "start_time": "2024-08-11T11:48:41.289197Z"
    }
   },
   "outputs": [
    {
     "name": "stdout",
     "output_type": "stream",
     "text": [
      "PyTorch Geometric版本: 2.5.3\n"
     ]
    }
   ],
   "source": [
    "import torch_geometric\n",
    "\n",
    "# 检查 PyTorch Geometric\n",
    "print(\"PyTorch Geometric版本:\", torch_geometric.__version__)\n"
   ]
  },
  {
   "cell_type": "code",
   "execution_count": 21,
   "id": "5b0aa313bf8c0474",
   "metadata": {
    "collapsed": false,
    "ExecuteTime": {
     "end_time": "2024-08-11T11:48:42.460608Z",
     "start_time": "2024-08-11T11:48:42.426926Z"
    }
   },
   "outputs": [
    {
     "name": "stdout",
     "output_type": "stream",
     "text": [
      "创建一个简单的图数据:\n",
      "节点特征矩阵: tensor([[1.],\n",
      "        [2.],\n",
      "        [3.]])\n",
      "边索引矩阵: tensor([[0, 1, 1, 2],\n",
      "        [1, 0, 2, 1]])\n",
      "定义的GCNConv层: GCNConv(1, 2)\n",
      "图卷积层的输出: tensor([[ 1.6376, -0.9989],\n",
      "        [ 2.8606, -1.7449],\n",
      "        [ 2.8816, -1.7577]], grad_fn=<AddBackward0>)\n"
     ]
    }
   ],
   "source": [
    "from torch_geometric.data import Data\n",
    "from torch_geometric.nn import GCNConv\n",
    "\n",
    "# 检查 PyTorch Geometric的 Data 和 GCNConv\n",
    "print(\"创建一个简单的图数据:\")\n",
    "edge_index = torch.tensor([[0, 1, 1, 2],\n",
    "                           [1, 0, 2, 1]], dtype=torch.long)\n",
    "x = torch.tensor([[1], [2], [3]], dtype=torch.float)\n",
    "\n",
    "data = Data(x=x, edge_index=edge_index)\n",
    "print(\"节点特征矩阵:\", data.x)\n",
    "print(\"边索引矩阵:\", data.edge_index)\n",
    "\n",
    "# 使用 GCNConv 定义一个简单的图卷积层\n",
    "conv = GCNConv(1, 2)\n",
    "print(\"定义的GCNConv层:\", conv)\n",
    "out = conv(data.x, data.edge_index)\n",
    "print(\"图卷积层的输出:\", out)\n"
   ]
  },
  {
   "cell_type": "code",
   "execution_count": 21,
   "id": "f36d7ef650d2a38c",
   "metadata": {
    "collapsed": false,
    "ExecuteTime": {
     "end_time": "2024-08-11T11:48:42.463581Z",
     "start_time": "2024-08-11T11:48:42.461612Z"
    }
   },
   "outputs": [],
   "source": []
  }
 ],
 "metadata": {
  "kernelspec": {
   "display_name": "Python 3 (ipykernel)",
   "language": "python",
   "name": "python3"
  },
  "language_info": {
   "codemirror_mode": {
    "name": "ipython",
    "version": 3
   },
   "file_extension": ".py",
   "mimetype": "text/x-python",
   "name": "python",
   "nbconvert_exporter": "python",
   "pygments_lexer": "ipython3",
   "version": "3.11.7"
  }
 },
 "nbformat": 4,
 "nbformat_minor": 5
}
